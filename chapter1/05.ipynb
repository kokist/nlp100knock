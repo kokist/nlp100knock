{
 "cells": [
  {
   "cell_type": "code",
   "execution_count": 17,
   "metadata": {},
   "outputs": [
    {
     "name": "stdout",
     "output_type": "stream",
     "text": [
      "単語bi-gram ['I ', ' a', 'am', 'm ', ' a', 'an', 'n ', ' N', 'NL', 'LP', 'Pe', 'er']\n",
      "文字bi-gram [['I', 'am'], ['am', 'an'], ['an', 'NLPer']]\n"
     ]
    }
   ],
   "source": [
    "def ngram(str, n):\n",
    "    #リスト内包表記 [リストの要素を計算する式 for 計算で使用する変数 in 反復可能オブジェクト]\n",
    "    return [str[i:i + n] for i in range(len(str) - 1)]\n",
    "\n",
    "str = \"I am an NLPer\"\n",
    "print(\"単語bi-gram\", ngram(str, 2))\n",
    "\n",
    "words = str.split(\" \")\n",
    "print(\"文字bi-gram\", ngram(words, 2))"
   ]
  }
 ],
 "metadata": {
  "kernelspec": {
   "display_name": "Python 3",
   "language": "python",
   "name": "python3"
  },
  "language_info": {
   "codemirror_mode": {
    "name": "ipython",
    "version": 3
   },
   "file_extension": ".py",
   "mimetype": "text/x-python",
   "name": "python",
   "nbconvert_exporter": "python",
   "pygments_lexer": "ipython3",
   "version": "3.7.9"
  }
 },
 "nbformat": 4,
 "nbformat_minor": 4
}
