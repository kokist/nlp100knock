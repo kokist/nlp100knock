{
 "cells": [
  {
   "cell_type": "code",
   "execution_count": 8,
   "metadata": {},
   "outputs": [
    {
     "name": "stdout",
     "output_type": "stream",
     "text": [
      "X: {'se', 'di', 'is', 'ap', 'ad', 'ar', 'pa', 'ra'}\n",
      "Y: {'ph', 'ag', 'gr', 'ap', 'ar', 'pa', 'ra'}\n",
      "和集合： {'se', 'ph', 'di', 'ag', 'is', 'gr', 'ap', 'ad', 'ar', 'pa', 'ra'}\n",
      "差集合： {'se', 'ad', 'is', 'di'}\n",
      "積集合： {'pa', 'ap', 'ra', 'ar'}\n",
      "seがXに含むか: True\n",
      "seがYに含むか: False\n"
     ]
    }
   ],
   "source": [
    "def ngram(str, n):\n",
    "    #リスト内包表記 [リストの要素を計算する式 for 計算で使用する変数 in 反復可能オブジェクト]\n",
    "    return [str[i:i + n] for i in range(len(str) - 1)]\n",
    "\n",
    "str1 = \"paraparaparadise\"\n",
    "str2 = \"paragraph\"\n",
    "\n",
    "#集合\n",
    "X = set(ngram(str1, 2))\n",
    "Y = set(ngram(str2, 2))\n",
    "\n",
    "print(\"X:\", X)\n",
    "print(\"Y:\", Y)\n",
    "\n",
    "xy_union = X | Y\n",
    "print(\"和集合：\", xy_union)\n",
    "\n",
    "xy_diff = X - Y\n",
    "print(\"差集合：\", xy_diff)\n",
    "\n",
    "xy_insec = X & Y\n",
    "print(\"積集合：\", xy_insec)\n",
    "\n",
    "print(\"seがXに含むか:\", \"se\" in X)\n",
    "print(\"seがYに含むか:\", \"se\" in Y)"
   ]
  }
 ],
 "metadata": {
  "kernelspec": {
   "display_name": "Python 3",
   "language": "python",
   "name": "python3"
  },
  "language_info": {
   "codemirror_mode": {
    "name": "ipython",
    "version": 3
   },
   "file_extension": ".py",
   "mimetype": "text/x-python",
   "name": "python",
   "nbconvert_exporter": "python",
   "pygments_lexer": "ipython3",
   "version": "3.7.9"
  }
 },
 "nbformat": 4,
 "nbformat_minor": 4
}
