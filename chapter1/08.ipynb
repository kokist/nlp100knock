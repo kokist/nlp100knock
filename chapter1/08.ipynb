{
 "cells": [
  {
   "cell_type": "code",
   "execution_count": 20,
   "metadata": {},
   "outputs": [
    {
     "name": "stdout",
     "output_type": "stream",
     "text": [
      "暗号化： r xzm zxxvkg uzrofiv, veviblmv uzroh zg hlnvgsrmt. yfg r xzm’g zxxvkg mlg gibrmt.\n",
      "復号化： i can accept failure, everyone fails at something. but i can’t accept not trying.\n"
     ]
    }
   ],
   "source": [
    "def cipher(str):\n",
    "    ans = [chr(219 - ord(s)) if s.islower() else s for s in str]\n",
    "    \n",
    "    return ''.join(ans)\n",
    "    \n",
    "str = \"i can accept failure, everyone fails at something. but i can’t accept not trying.\"\n",
    "ans = cipher(str)\n",
    "print(\"暗号化：\", ans)\n",
    "print(\"復号化：\", cipher(ans))"
   ]
  }
 ],
 "metadata": {
  "kernelspec": {
   "display_name": "Python 3",
   "language": "python",
   "name": "python3"
  },
  "language_info": {
   "codemirror_mode": {
    "name": "ipython",
    "version": 3
   },
   "file_extension": ".py",
   "mimetype": "text/x-python",
   "name": "python",
   "nbconvert_exporter": "python",
   "pygments_lexer": "ipython3",
   "version": "3.7.9"
  }
 },
 "nbformat": 4,
 "nbformat_minor": 4
}
